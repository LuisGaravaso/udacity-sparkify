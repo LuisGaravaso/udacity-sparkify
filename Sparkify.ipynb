{
 "cells": [
  {
   "cell_type": "markdown",
   "metadata": {},
   "source": [
    "# Sparkify Capstone Project "
   ]
  },
  {
   "cell_type": "markdown",
   "metadata": {},
   "source": [
    "# Imports"
   ]
  },
  {
   "cell_type": "code",
   "execution_count": 1,
   "metadata": {
    "execution": {
     "iopub.execute_input": "2021-03-07T02:55:16.512205Z",
     "iopub.status.busy": "2021-03-07T02:55:16.512205Z",
     "iopub.status.idle": "2021-03-07T02:55:17.762877Z",
     "shell.execute_reply": "2021-03-07T02:55:17.761899Z",
     "shell.execute_reply.started": "2021-03-07T02:55:16.512205Z"
    }
   },
   "outputs": [],
   "source": [
    "# Spark\n",
    "import pyspark\n",
    "from pyspark import keyword_only\n",
    "from pyspark.sql import SparkSession\n",
    "import pyspark.sql.functions as F\n",
    "from pyspark.sql.types import StringType, IntegerType, FloatType, DateType, LongType\n",
    "from pyspark.sql.window import Window\n",
    "\n",
    "# Other Data Libraries\n",
    "import pandas as pd\n",
    "import datetime\n",
    "import numpy as np\n",
    "import seaborn as sns\n",
    "import re\n",
    "import matplotlib.pyplot as plt\n",
    "\n",
    "# ETL Pipeline Libraries\n",
    "from pyspark.ml.pipeline import Transformer, Pipeline\n",
    "from pyspark.ml.param.shared import HasInputCol, HasOutputCol, Param, Params, TypeConverters\n",
    "from pyspark.ml.util import DefaultParamsReadable, DefaultParamsWritable\n",
    "\n",
    "#Machine Learning Libraries\n",
    "from pyspark.ml.feature import VectorAssembler\n",
    "from pyspark.ml.regression import GeneralizedLinearRegression\n",
    "from pyspark.ml.classification import LogisticRegression, RandomForestClassifier\n",
    "from pyspark.ml.tuning import ParamGridBuilder, TrainValidationSplit\n",
    "from pyspark.ml.evaluation import BinaryClassificationEvaluator"
   ]
  },
  {
   "cell_type": "markdown",
   "metadata": {},
   "source": [
    "# Setup"
   ]
  },
  {
   "cell_type": "code",
   "execution_count": 2,
   "metadata": {
    "execution": {
     "iopub.execute_input": "2021-03-07T02:55:17.763875Z",
     "iopub.status.busy": "2021-03-07T02:55:17.763875Z",
     "iopub.status.idle": "2021-03-07T02:55:17.776841Z",
     "shell.execute_reply": "2021-03-07T02:55:17.776841Z",
     "shell.execute_reply.started": "2021-03-07T02:55:17.763875Z"
    }
   },
   "outputs": [],
   "source": [
    "#Notebook Setup\n",
    "%matplotlib inline\n",
    "sns.set()\n",
    "colors = sns.color_palette()"
   ]
  },
  {
   "cell_type": "code",
   "execution_count": 3,
   "metadata": {
    "execution": {
     "iopub.execute_input": "2021-03-07T02:55:17.778836Z",
     "iopub.status.busy": "2021-03-07T02:55:17.778836Z",
     "iopub.status.idle": "2021-03-07T02:55:31.787394Z",
     "shell.execute_reply": "2021-03-07T02:55:31.786399Z",
     "shell.execute_reply.started": "2021-03-07T02:55:17.778836Z"
    }
   },
   "outputs": [],
   "source": [
    "# Spark Setup\n",
    "spark = SparkSession.builder \\\n",
    "                    .master(\"local\") \\\n",
    "                    .appName(\"CapstoneProject\") \\\n",
    "                    .getOrCreate()"
   ]
  },
  {
   "cell_type": "code",
   "execution_count": 4,
   "metadata": {
    "execution": {
     "iopub.execute_input": "2021-03-07T02:55:31.791386Z",
     "iopub.status.busy": "2021-03-07T02:55:31.791386Z",
     "iopub.status.idle": "2021-03-07T02:55:31.804350Z",
     "shell.execute_reply": "2021-03-07T02:55:31.802355Z",
     "shell.execute_reply.started": "2021-03-07T02:55:31.791386Z"
    }
   },
   "outputs": [],
   "source": [
    "#Get Spark Context\n",
    "sc = spark.sparkContext"
   ]
  },
  {
   "cell_type": "markdown",
   "metadata": {},
   "source": [
    "# ETL\n",
    "This section will Load and Clean the Dataset, checking for invalid or missing data."
   ]
  },
  {
   "cell_type": "code",
   "execution_count": 5,
   "metadata": {
    "execution": {
     "iopub.execute_input": "2021-03-07T02:55:31.808340Z",
     "iopub.status.busy": "2021-03-07T02:55:31.808340Z",
     "iopub.status.idle": "2021-03-07T02:55:39.854482Z",
     "shell.execute_reply": "2021-03-07T02:55:39.852517Z",
     "shell.execute_reply.started": "2021-03-07T02:55:31.808340Z"
    }
   },
   "outputs": [],
   "source": [
    "#Reading Data\n",
    "sparkify = spark.read.json('mini_sparkify_event_data.json')"
   ]
  },
  {
   "cell_type": "code",
   "execution_count": 6,
   "metadata": {
    "execution": {
     "iopub.execute_input": "2021-03-07T02:55:39.856471Z",
     "iopub.status.busy": "2021-03-07T02:55:39.855473Z",
     "iopub.status.idle": "2021-03-07T02:55:41.341016Z",
     "shell.execute_reply": "2021-03-07T02:55:41.340020Z",
     "shell.execute_reply.started": "2021-03-07T02:55:39.856471Z"
    }
   },
   "outputs": [
    {
     "data": {
      "text/plain": [
       "286500"
      ]
     },
     "execution_count": 6,
     "metadata": {},
     "output_type": "execute_result"
    }
   ],
   "source": [
    "#Number of Rows\n",
    "n_rows = sparkify.count()\n",
    "n_rows"
   ]
  },
  {
   "cell_type": "code",
   "execution_count": 7,
   "metadata": {
    "execution": {
     "iopub.execute_input": "2021-03-07T02:55:41.343013Z",
     "iopub.status.busy": "2021-03-07T02:55:41.342016Z",
     "iopub.status.idle": "2021-03-07T02:55:41.372444Z",
     "shell.execute_reply": "2021-03-07T02:55:41.371447Z",
     "shell.execute_reply.started": "2021-03-07T02:55:41.342016Z"
    }
   },
   "outputs": [
    {
     "name": "stdout",
     "output_type": "stream",
     "text": [
      "root\n",
      " |-- artist: string (nullable = true)\n",
      " |-- auth: string (nullable = true)\n",
      " |-- firstName: string (nullable = true)\n",
      " |-- gender: string (nullable = true)\n",
      " |-- itemInSession: long (nullable = true)\n",
      " |-- lastName: string (nullable = true)\n",
      " |-- length: double (nullable = true)\n",
      " |-- level: string (nullable = true)\n",
      " |-- location: string (nullable = true)\n",
      " |-- method: string (nullable = true)\n",
      " |-- page: string (nullable = true)\n",
      " |-- registration: long (nullable = true)\n",
      " |-- sessionId: long (nullable = true)\n",
      " |-- song: string (nullable = true)\n",
      " |-- status: long (nullable = true)\n",
      " |-- ts: long (nullable = true)\n",
      " |-- userAgent: string (nullable = true)\n",
      " |-- userId: string (nullable = true)\n",
      "\n"
     ]
    }
   ],
   "source": [
    "#Show Schema\n",
    "sparkify.printSchema()"
   ]
  },
  {
   "cell_type": "code",
   "execution_count": 8,
   "metadata": {
    "execution": {
     "iopub.execute_input": "2021-03-07T02:55:41.373442Z",
     "iopub.status.busy": "2021-03-07T02:55:41.373442Z",
     "iopub.status.idle": "2021-03-07T02:55:41.609810Z",
     "shell.execute_reply": "2021-03-07T02:55:41.608812Z",
     "shell.execute_reply.started": "2021-03-07T02:55:41.373442Z"
    }
   },
   "outputs": [
    {
     "data": {
      "text/plain": [
       "[Row(artist='Martha Tilston', auth='Logged In', firstName='Colin', gender='M', itemInSession=50, lastName='Freeman', length=277.89016, level='paid', location='Bakersfield, CA', method='PUT', page='NextSong', registration=1538173362000, sessionId=29, song='Rockpools', status=200, ts=1538352117000, userAgent='Mozilla/5.0 (Windows NT 6.1; WOW64; rv:31.0) Gecko/20100101 Firefox/31.0', userId='30')]"
      ]
     },
     "execution_count": 8,
     "metadata": {},
     "output_type": "execute_result"
    }
   ],
   "source": [
    "#Get one row as example\n",
    "sparkify.take(1)"
   ]
  },
  {
   "cell_type": "markdown",
   "metadata": {},
   "source": [
    "## Column `userId`"
   ]
  },
  {
   "cell_type": "markdown",
   "metadata": {},
   "source": [
    "Let's account for missing values in `userId`. \n",
    "To do that, we should create and `accumulator`"
   ]
  },
  {
   "cell_type": "code",
   "execution_count": 9,
   "metadata": {
    "execution": {
     "iopub.execute_input": "2021-03-07T02:55:41.613798Z",
     "iopub.status.busy": "2021-03-07T02:55:41.613798Z",
     "iopub.status.idle": "2021-03-07T02:55:45.193760Z",
     "shell.execute_reply": "2021-03-07T02:55:45.192762Z",
     "shell.execute_reply.started": "2021-03-07T02:55:41.613798Z"
    }
   },
   "outputs": [
    {
     "name": "stdout",
     "output_type": "stream",
     "text": [
      "8346 userIds are missing\n",
      "That is 2.91% of the rows\n"
     ]
    }
   ],
   "source": [
    "#Create Accumulator\n",
    "missing_userIds = sc.accumulator(0)\n",
    "\n",
    "#Define Accumulation Function\n",
    "def missing_Id():\n",
    "    global missing_userIds\n",
    "    missing_userIds += 1\n",
    "\n",
    "count_missing = F.udf(lambda x: x if x.isdigit() else missing_Id())\n",
    "\n",
    "#Run Function\n",
    "sparkify.select('userId').withColumn('userId', count_missing('userId')).collect()\n",
    "\n",
    "#Log\n",
    "missing_percentage = 100*missing_userIds.value/n_rows\n",
    "print(f'{missing_userIds.value} userIds are missing')\n",
    "print(f'That is {missing_percentage:.2f}% of the rows')"
   ]
  },
  {
   "cell_type": "markdown",
   "metadata": {},
   "source": [
    "Now, let's drop them"
   ]
  },
  {
   "cell_type": "code",
   "execution_count": 10,
   "metadata": {
    "execution": {
     "iopub.execute_input": "2021-03-07T02:55:45.196752Z",
     "iopub.status.busy": "2021-03-07T02:55:45.196752Z",
     "iopub.status.idle": "2021-03-07T02:55:45.447083Z",
     "shell.execute_reply": "2021-03-07T02:55:45.446086Z",
     "shell.execute_reply.started": "2021-03-07T02:55:45.196752Z"
    }
   },
   "outputs": [],
   "source": [
    "sparkify = sparkify.where(\"userId != ''\")"
   ]
  },
  {
   "cell_type": "markdown",
   "metadata": {},
   "source": [
    "## Timestamp Columns"
   ]
  },
  {
   "cell_type": "markdown",
   "metadata": {},
   "source": [
    "We see that the column `ts` and `registration` are in *microseconds*.\n",
    "\n",
    "Let's convert them to *seconds* and then to complete date format"
   ]
  },
  {
   "cell_type": "code",
   "execution_count": 11,
   "metadata": {
    "execution": {
     "iopub.execute_input": "2021-03-07T02:55:45.449077Z",
     "iopub.status.busy": "2021-03-07T02:55:45.448079Z",
     "iopub.status.idle": "2021-03-07T02:55:45.588704Z",
     "shell.execute_reply": "2021-03-07T02:55:45.587707Z",
     "shell.execute_reply.started": "2021-03-07T02:55:45.449077Z"
    }
   },
   "outputs": [],
   "source": [
    "#Date Format\n",
    "fmt = 'yyyy-MM-dd HH:mm:ss'\n",
    "\n",
    "#Convert from miliseconds to seconds\n",
    "ts_converter = F.udf(lambda x: x/1000, FloatType())\n",
    "\n",
    "#Do the conversion\n",
    "sparkify = sparkify.withColumn('ts', ts_converter('ts'))\\\n",
    "                   .withColumn('ts', F.from_unixtime('ts', format = fmt))\\\n",
    "                   .withColumn('ts', F.to_timestamp('ts'))\\\n",
    "                   .withColumn('registration', ts_converter('registration'))\\\n",
    "                   .withColumn('registration', F.from_unixtime('registration', format = fmt))\\\n",
    "                   .withColumn('registration', F.to_timestamp('registration'))"
   ]
  },
  {
   "cell_type": "markdown",
   "metadata": {},
   "source": [
    "Verifying if the date is properly formatted"
   ]
  },
  {
   "cell_type": "code",
   "execution_count": 12,
   "metadata": {
    "execution": {
     "iopub.execute_input": "2021-03-07T02:55:45.589701Z",
     "iopub.status.busy": "2021-03-07T02:55:45.589701Z",
     "iopub.status.idle": "2021-03-07T02:55:47.731809Z",
     "shell.execute_reply": "2021-03-07T02:55:47.729816Z",
     "shell.execute_reply.started": "2021-03-07T02:55:45.589701Z"
    }
   },
   "outputs": [
    {
     "data": {
      "text/plain": [
       "[Row(artist='Martha Tilston', auth='Logged In', firstName='Colin', gender='M', itemInSession=50, lastName='Freeman', length=277.89016, level='paid', location='Bakersfield, CA', method='PUT', page='NextSong', registration=datetime.datetime(2018, 9, 28, 19, 21, 52), sessionId=29, song='Rockpools', status=200, ts=datetime.datetime(2018, 9, 30, 21, 2, 8), userAgent='Mozilla/5.0 (Windows NT 6.1; WOW64; rv:31.0) Gecko/20100101 Firefox/31.0', userId='30')]"
      ]
     },
     "execution_count": 12,
     "metadata": {},
     "output_type": "execute_result"
    }
   ],
   "source": [
    "sparkify.take(1)"
   ]
  },
  {
   "cell_type": "markdown",
   "metadata": {},
   "source": [
    "# Exploratory Data Analysis"
   ]
  },
  {
   "cell_type": "markdown",
   "metadata": {},
   "source": [
    "## Features Overview"
   ]
  },
  {
   "cell_type": "markdown",
   "metadata": {},
   "source": [
    "Let's check how many unique users we have"
   ]
  },
  {
   "cell_type": "code",
   "execution_count": 13,
   "metadata": {
    "execution": {
     "iopub.execute_input": "2021-03-07T02:55:47.734802Z",
     "iopub.status.busy": "2021-03-07T02:55:47.734802Z",
     "iopub.status.idle": "2021-03-07T02:55:54.685767Z",
     "shell.execute_reply": "2021-03-07T02:55:54.684768Z",
     "shell.execute_reply.started": "2021-03-07T02:55:47.734802Z"
    }
   },
   "outputs": [
    {
     "name": "stdout",
     "output_type": "stream",
     "text": [
      "+----------------------+\n",
      "|count(DISTINCT userId)|\n",
      "+----------------------+\n",
      "|                   225|\n",
      "+----------------------+\n",
      "\n"
     ]
    }
   ],
   "source": [
    "sparkify.select(F.countDistinct(\"userId\")).show()"
   ]
  },
  {
   "cell_type": "markdown",
   "metadata": {},
   "source": [
    "Now Let's see how the columns `auth`, `method`, `page`, `level`, `gender`, `status` and `userAgent` look like:\n",
    "\n",
    "To do that, I will define the function `value_counts` (Similar to Pandas' Series method)"
   ]
  },
  {
   "cell_type": "code",
   "execution_count": 14,
   "metadata": {
    "execution": {
     "iopub.execute_input": "2021-03-07T02:55:54.689756Z",
     "iopub.status.busy": "2021-03-07T02:55:54.688759Z",
     "iopub.status.idle": "2021-03-07T02:55:54.701726Z",
     "shell.execute_reply": "2021-03-07T02:55:54.700727Z",
     "shell.execute_reply.started": "2021-03-07T02:55:54.689756Z"
    }
   },
   "outputs": [],
   "source": [
    "def value_counts(df, column):\n",
    "    return df.groupby(column).count().orderBy('count', ascending = False)"
   ]
  },
  {
   "cell_type": "code",
   "execution_count": 15,
   "metadata": {
    "execution": {
     "iopub.execute_input": "2021-03-07T02:55:54.703721Z",
     "iopub.status.busy": "2021-03-07T02:55:54.703721Z",
     "iopub.status.idle": "2021-03-07T02:55:58.262748Z",
     "shell.execute_reply": "2021-03-07T02:55:58.262748Z",
     "shell.execute_reply.started": "2021-03-07T02:55:54.703721Z"
    }
   },
   "outputs": [
    {
     "name": "stdout",
     "output_type": "stream",
     "text": [
      "+---------+------+\n",
      "|     auth| count|\n",
      "+---------+------+\n",
      "|Logged In|278102|\n",
      "|Cancelled|    52|\n",
      "+---------+------+\n",
      "\n"
     ]
    }
   ],
   "source": [
    "auth = value_counts(sparkify, 'auth')\n",
    "auth.show()"
   ]
  },
  {
   "cell_type": "code",
   "execution_count": 16,
   "metadata": {
    "execution": {
     "iopub.execute_input": "2021-03-07T02:55:58.263746Z",
     "iopub.status.busy": "2021-03-07T02:55:58.263746Z",
     "iopub.status.idle": "2021-03-07T02:55:59.783292Z",
     "shell.execute_reply": "2021-03-07T02:55:59.782294Z",
     "shell.execute_reply.started": "2021-03-07T02:55:58.263746Z"
    },
    "scrolled": true
   },
   "outputs": [
    {
     "name": "stdout",
     "output_type": "stream",
     "text": [
      "+------+------+\n",
      "|method| count|\n",
      "+------+------+\n",
      "|   PUT|257818|\n",
      "|   GET| 20336|\n",
      "+------+------+\n",
      "\n"
     ]
    }
   ],
   "source": [
    "method = value_counts(sparkify, 'method')\n",
    "method.show()"
   ]
  },
  {
   "cell_type": "code",
   "execution_count": 17,
   "metadata": {
    "execution": {
     "iopub.execute_input": "2021-03-07T02:55:59.784289Z",
     "iopub.status.busy": "2021-03-07T02:55:59.784289Z",
     "iopub.status.idle": "2021-03-07T02:56:01.509397Z",
     "shell.execute_reply": "2021-03-07T02:56:01.508399Z",
     "shell.execute_reply.started": "2021-03-07T02:55:59.784289Z"
    }
   },
   "outputs": [
    {
     "name": "stdout",
     "output_type": "stream",
     "text": [
      "+--------------------+------+\n",
      "|                page| count|\n",
      "+--------------------+------+\n",
      "|            NextSong|228108|\n",
      "|           Thumbs Up| 12551|\n",
      "|                Home| 10082|\n",
      "|     Add to Playlist|  6526|\n",
      "|          Add Friend|  4277|\n",
      "|         Roll Advert|  3933|\n",
      "|              Logout|  3226|\n",
      "|         Thumbs Down|  2546|\n",
      "|           Downgrade|  2055|\n",
      "|            Settings|  1514|\n",
      "|                Help|  1454|\n",
      "|             Upgrade|   499|\n",
      "|               About|   495|\n",
      "|       Save Settings|   310|\n",
      "|               Error|   252|\n",
      "|      Submit Upgrade|   159|\n",
      "|    Submit Downgrade|    63|\n",
      "|              Cancel|    52|\n",
      "|Cancellation Conf...|    52|\n",
      "+--------------------+------+\n",
      "\n"
     ]
    }
   ],
   "source": [
    "page = value_counts(sparkify, 'page')\n",
    "page.show()"
   ]
  },
  {
   "cell_type": "code",
   "execution_count": 18,
   "metadata": {
    "execution": {
     "iopub.execute_input": "2021-03-07T02:56:01.511392Z",
     "iopub.status.busy": "2021-03-07T02:56:01.511392Z",
     "iopub.status.idle": "2021-03-07T02:56:04.230012Z",
     "shell.execute_reply": "2021-03-07T02:56:04.228047Z",
     "shell.execute_reply.started": "2021-03-07T02:56:01.511392Z"
    }
   },
   "outputs": [
    {
     "name": "stdout",
     "output_type": "stream",
     "text": [
      "+-----+------+\n",
      "|level| count|\n",
      "+-----+------+\n",
      "| paid|222433|\n",
      "| free| 55721|\n",
      "+-----+------+\n",
      "\n"
     ]
    }
   ],
   "source": [
    "level = value_counts(sparkify, 'level')\n",
    "level.show()"
   ]
  },
  {
   "cell_type": "code",
   "execution_count": 19,
   "metadata": {
    "execution": {
     "iopub.execute_input": "2021-03-07T02:56:04.232999Z",
     "iopub.status.busy": "2021-03-07T02:56:04.232003Z",
     "iopub.status.idle": "2021-03-07T02:56:07.121816Z",
     "shell.execute_reply": "2021-03-07T02:56:07.120816Z",
     "shell.execute_reply.started": "2021-03-07T02:56:04.232999Z"
    }
   },
   "outputs": [
    {
     "name": "stdout",
     "output_type": "stream",
     "text": [
      "+------+------+\n",
      "|gender| count|\n",
      "+------+------+\n",
      "|     F|154578|\n",
      "|     M|123576|\n",
      "+------+------+\n",
      "\n"
     ]
    }
   ],
   "source": [
    "gender = value_counts(sparkify, 'gender')\n",
    "gender.show()"
   ]
  },
  {
   "cell_type": "code",
   "execution_count": 20,
   "metadata": {
    "execution": {
     "iopub.execute_input": "2021-03-07T02:56:07.122810Z",
     "iopub.status.busy": "2021-03-07T02:56:07.122810Z",
     "iopub.status.idle": "2021-03-07T02:56:08.678550Z",
     "shell.execute_reply": "2021-03-07T02:56:08.677551Z",
     "shell.execute_reply.started": "2021-03-07T02:56:07.122810Z"
    }
   },
   "outputs": [
    {
     "name": "stdout",
     "output_type": "stream",
     "text": [
      "+--------------------+-----+\n",
      "|           userAgent|count|\n",
      "+--------------------+-----+\n",
      "|\"Mozilla/5.0 (Win...|22751|\n",
      "|\"Mozilla/5.0 (Mac...|19611|\n",
      "|\"Mozilla/5.0 (Mac...|18448|\n",
      "|\"Mozilla/5.0 (Mac...|17348|\n",
      "|Mozilla/5.0 (Wind...|16700|\n",
      "|\"Mozilla/5.0 (Win...|15395|\n",
      "|\"Mozilla/5.0 (Win...|14598|\n",
      "|Mozilla/5.0 (Maci...|10300|\n",
      "|\"Mozilla/5.0 (iPa...| 8912|\n",
      "|Mozilla/5.0 (comp...| 8624|\n",
      "|\"Mozilla/5.0 (Mac...| 8094|\n",
      "|\"Mozilla/5.0 (Win...| 7923|\n",
      "|\"Mozilla/5.0 (Mac...| 7906|\n",
      "|\"Mozilla/5.0 (Win...| 7624|\n",
      "|\"Mozilla/5.0 (iPh...| 6417|\n",
      "|Mozilla/5.0 (Wind...| 5989|\n",
      "|\"Mozilla/5.0 (Mac...| 5716|\n",
      "|\"Mozilla/5.0 (Win...| 5238|\n",
      "|\"Mozilla/5.0 (Win...| 4917|\n",
      "|Mozilla/5.0 (Wind...| 4663|\n",
      "+--------------------+-----+\n",
      "only showing top 20 rows\n",
      "\n"
     ]
    }
   ],
   "source": [
    "userAgent = value_counts(sparkify, 'userAgent')\n",
    "userAgent.show()"
   ]
  },
  {
   "cell_type": "code",
   "execution_count": 21,
   "metadata": {
    "execution": {
     "iopub.execute_input": "2021-03-07T02:56:08.679546Z",
     "iopub.status.busy": "2021-03-07T02:56:08.679546Z",
     "iopub.status.idle": "2021-03-07T02:56:10.343176Z",
     "shell.execute_reply": "2021-03-07T02:56:10.341181Z",
     "shell.execute_reply.started": "2021-03-07T02:56:08.679546Z"
    }
   },
   "outputs": [
    {
     "name": "stdout",
     "output_type": "stream",
     "text": [
      "+------+------+\n",
      "|status| count|\n",
      "+------+------+\n",
      "|   200|254718|\n",
      "|   307| 23184|\n",
      "|   404|   252|\n",
      "+------+------+\n",
      "\n"
     ]
    }
   ],
   "source": [
    "status = value_counts(sparkify, 'status')\n",
    "status.show()"
   ]
  },
  {
   "cell_type": "markdown",
   "metadata": {},
   "source": [
    "## Defining Churn\n",
    "\n",
    "Let's create a column `Churn` to use as the label for your model.\n",
    "\n",
    "To do that, I am going to transform the DataFrame from **one-row-one-song** to **one-row-one-userId** with the `make_pivot` function below. \n",
    "\n",
    "Then, I'll rename the `Cancellation Confirmation` column as `Churn`"
   ]
  },
  {
   "cell_type": "code",
   "execution_count": 22,
   "metadata": {
    "execution": {
     "iopub.execute_input": "2021-03-07T02:56:10.345171Z",
     "iopub.status.busy": "2021-03-07T02:56:10.344174Z",
     "iopub.status.idle": "2021-03-07T02:56:10.372309Z",
     "shell.execute_reply": "2021-03-07T02:56:10.371310Z",
     "shell.execute_reply.started": "2021-03-07T02:56:10.345171Z"
    }
   },
   "outputs": [],
   "source": [
    "def make_pivot(df, pivot_col, agg_func = 'count', fill_na = False, fill_value = 0):\n",
    "    \n",
    "    #GroupBy Pivot Column\n",
    "    group = df.select('userId',pivot_col).groupby('userId')\n",
    "    \n",
    "    #Make Pivot Table and Aggregate it with 'agg_func'\n",
    "    pivot = group.pivot(pivot_col).agg({pivot_col:agg_func})\n",
    "    \n",
    "    #If True, fill null values with fill_value\n",
    "    if fill_na:\n",
    "        pivot = pivot.fillna(fill_value)\n",
    "        \n",
    "    return pivot"
   ]
  },
  {
   "cell_type": "code",
   "execution_count": 23,
   "metadata": {
    "execution": {
     "iopub.execute_input": "2021-03-07T02:56:10.375302Z",
     "iopub.status.busy": "2021-03-07T02:56:10.374302Z",
     "iopub.status.idle": "2021-03-07T02:56:14.338828Z",
     "shell.execute_reply": "2021-03-07T02:56:14.337830Z",
     "shell.execute_reply.started": "2021-03-07T02:56:10.375302Z"
    }
   },
   "outputs": [],
   "source": [
    "#Pivot Transformation\n",
    "page_pivot = make_pivot(sparkify, 'page', fill_na=True)\n",
    "\n",
    "#Renaming column\n",
    "page_pivot = page_pivot.withColumnRenamed('Cancellation Confirmation','Churn')"
   ]
  },
  {
   "cell_type": "markdown",
   "metadata": {},
   "source": [
    "I am gonna do something similar for the `auth` column, since it contains information about how many times the user logged in."
   ]
  },
  {
   "cell_type": "code",
   "execution_count": 24,
   "metadata": {
    "execution": {
     "iopub.execute_input": "2021-03-07T02:56:14.341820Z",
     "iopub.status.busy": "2021-03-07T02:56:14.341820Z",
     "iopub.status.idle": "2021-03-07T02:56:17.371615Z",
     "shell.execute_reply": "2021-03-07T02:56:17.371615Z",
     "shell.execute_reply.started": "2021-03-07T02:56:14.341820Z"
    }
   },
   "outputs": [],
   "source": [
    "#Pivot Transformation\n",
    "auth_pivot = make_pivot(sparkify, 'auth')\n",
    "\n",
    "#Dropping Cancelled column\n",
    "auth_pivot = auth_pivot.drop('Cancelled')"
   ]
  },
  {
   "cell_type": "markdown",
   "metadata": {},
   "source": [
    "Next, for the `method` column:"
   ]
  },
  {
   "cell_type": "code",
   "execution_count": 25,
   "metadata": {
    "execution": {
     "iopub.execute_input": "2021-03-07T02:56:17.372612Z",
     "iopub.status.busy": "2021-03-07T02:56:17.372612Z",
     "iopub.status.idle": "2021-03-07T02:56:18.851669Z",
     "shell.execute_reply": "2021-03-07T02:56:18.851669Z",
     "shell.execute_reply.started": "2021-03-07T02:56:17.372612Z"
    }
   },
   "outputs": [],
   "source": [
    "#Pivot Transformation\n",
    "method_pivot = make_pivot(sparkify, 'method')"
   ]
  },
  {
   "cell_type": "markdown",
   "metadata": {},
   "source": [
    "Finally, for the `status` column:"
   ]
  },
  {
   "cell_type": "code",
   "execution_count": 26,
   "metadata": {
    "execution": {
     "iopub.execute_input": "2021-03-07T02:56:18.853656Z",
     "iopub.status.busy": "2021-03-07T02:56:18.852655Z",
     "iopub.status.idle": "2021-03-07T02:56:20.618341Z",
     "shell.execute_reply": "2021-03-07T02:56:20.617344Z",
     "shell.execute_reply.started": "2021-03-07T02:56:18.852655Z"
    }
   },
   "outputs": [],
   "source": [
    "#Pivot Transformation\n",
    "status_pivot = make_pivot(sparkify, 'status', fill_na=True)"
   ]
  },
  {
   "cell_type": "markdown",
   "metadata": {},
   "source": [
    "**NOTE**: \n",
    "1. I'll not include the `level` feature, since the `Submit Upgrade` and `Submit Downgrade` from `page_pivot` already capture well the user's level\n",
    "1. Also, `userAgent` contains too many values to encode, so it'll be left out of the analysis"
   ]
  },
  {
   "cell_type": "markdown",
   "metadata": {},
   "source": [
    "## Explore Count Features"
   ]
  },
  {
   "cell_type": "markdown",
   "metadata": {},
   "source": [
    "Since we are dealing with lots of *count variables*, I am gonna define a `histogram` function to make visualizations simpler:"
   ]
  },
  {
   "cell_type": "code",
   "execution_count": 27,
   "metadata": {
    "execution": {
     "iopub.execute_input": "2021-03-07T02:56:20.623330Z",
     "iopub.status.busy": "2021-03-07T02:56:20.623330Z",
     "iopub.status.idle": "2021-03-07T02:56:20.634304Z",
     "shell.execute_reply": "2021-03-07T02:56:20.633300Z",
     "shell.execute_reply.started": "2021-03-07T02:56:20.623330Z"
    }
   },
   "outputs": [],
   "source": [
    "def histogram(df):\n",
    "    \n",
    "    df = df.toPandas()\n",
    "    columns = df.columns[1:]\n",
    "    columns = columns.drop('Churn')\n",
    "    for col in columns:\n",
    "        zero, ones = df.hist(column = col, by = 'Churn', sharex=True, sharey=True)\n",
    "\n",
    "        #Not Churn Plot Properties\n",
    "        zero.set_ylabel(\"User Count\")\n",
    "        zero.set_xlabel(f\"{col} Count\")\n",
    "        zero.set_title(\"Not Churn\")\n",
    "\n",
    "        #Churn Plot Properties\n",
    "        ones.set_xlabel(f\"{col} Count\")\n",
    "        ones.set_title(\"Churn\")\n",
    "        for rect in ones.patches: #Change color\n",
    "            rect.set_color(colors[1])\n",
    "\n",
    "        plt.show()"
   ]
  },
  {
   "cell_type": "markdown",
   "metadata": {},
   "source": [
    "**According to Page**"
   ]
  },
  {
   "cell_type": "code",
   "execution_count": 28,
   "metadata": {
    "execution": {
     "iopub.execute_input": "2021-03-07T02:56:20.636295Z",
     "iopub.status.busy": "2021-03-07T02:56:20.636295Z",
     "iopub.status.idle": "2021-03-07T02:56:44.273312Z",
     "shell.execute_reply": "2021-03-07T02:56:44.272317Z",
     "shell.execute_reply.started": "2021-03-07T02:56:20.636295Z"
    }
   },
   "outputs": [
    {
     "data": {
      "image/png": "[encoded data removed]",
      "text/plain": [
       "<Figure size 432x288 with 2 Axes>"
      ]
     },
     "metadata": {},
     "output_type": "display_data"
    },
    {
     "data": {
      "image/png": "[encoded data removed]",
      "text/plain": [
       "<Figure size 432x288 with 2 Axes>"
      ]
     },
     "metadata": {},
     "output_type": "display_data"
    },
    {
     "data": {
      "image/png": "[encoded data removed]",
      "text/plain": [
       "<Figure size 432x288 with 2 Axes>"
      ]
     },
     "metadata": {},
     "output_type": "display_data"
    },
    {
     "data": {
      "image/png": "[encoded data removed]",
      "text/plain": [
       "<Figure size 432x288 with 2 Axes>"
      ]
     },
     "metadata": {},
     "output_type": "display_data"
    },
    {
     "data": {
      "image/png": "[encoded data removed]",
      "text/plain": [
       "<Figure size 432x288 with 2 Axes>"
      ]
     },
     "metadata": {},
     "output_type": "display_data"
    },
    {
     "data": {
      "image/png": "[encoded data removed]",
      "text/plain": [
       "<Figure size 432x288 with 2 Axes>"
      ]
     },
     "metadata": {},
     "output_type": "display_data"
    },
    {
     "data": {
      "image/png": "[encoded data removed]",
      "text/plain": [
       "<Figure size 432x288 with 2 Axes>"
      ]
     },
     "metadata": {},
     "output_type": "display_data"
    },
    {
     "data": {
      "image/png": "[encoded data removed]",
      "text/plain": [
       "<Figure size 432x288 with 2 Axes>"
      ]
     },
     "metadata": {},
     "output_type": "display_data"
    },
    {
     "data": {
      "image/png": "[encoded data removed]",
      "text/plain": [
       "<Figure size 432x288 with 2 Axes>"
      ]
     },
     "metadata": {},
     "output_type": "display_data"
    },
    {
     "data": {
      "image/png": "[encoded data removed]",
      "text/plain": [
       "<Figure size 432x288 with 2 Axes>"
      ]
     },
     "metadata": {},
     "output_type": "display_data"
    },
    {
     "data": {
      "image/png": "[encoded data removed]",
      "text/plain": [
       "<Figure size 432x288 with 2 Axes>"
      ]
     },
     "metadata": {},
     "output_type": "display_data"
    },
    {
     "data": {
      "image/png": "[encoded data removed]",
      "text/plain": [
       "<Figure size 432x288 with 2 Axes>"
      ]
     },
     "metadata": {},
     "output_type": "display_data"
    },
    {
     "data": {
      "image/png": "[encoded data removed]",
      "text/plain": [
       "<Figure size 432x288 with 2 Axes>"
      ]
     },
     "metadata": {},
     "output_type": "display_data"
    },
    {
     "data": {
      "image/png": "[encoded data removed]",
      "text/plain": [
       "<Figure size 432x288 with 2 Axes>"
      ]
     },
     "metadata": {},
     "output_type": "display_data"
    },
    {
     "data": {
      "image/png": "[encoded data removed]",
      "text/plain": [
       "<Figure size 432x288 with 2 Axes>"
      ]
     },
     "metadata": {},
     "output_type": "display_data"
    },
    {
     "data": {
      "image/png": "[encoded data removed]",
      "text/plain": [
       "<Figure size 432x288 with 2 Axes>"
      ]
     },
     "metadata": {},
     "output_type": "display_data"
    },
    {
     "data": {
      "image/png": "[encoded data removed]",
      "text/plain": [
       "<Figure size 432x288 with 2 Axes>"
      ]
     },
     "metadata": {},
     "output_type": "display_data"
    },
    {
     "data": {
      "image/png": "[encoded data removed]",
      "text/plain": [
       "<Figure size 432x288 with 2 Axes>"
      ]
     },
     "metadata": {},
     "output_type": "display_data"
    }
   ],
   "source": [
    "histogram(page_pivot)"
   ]
  },
  {
   "cell_type": "markdown",
   "metadata": {},
   "source": [
    "Note that `Cancel` expresses the same information as `Churn`, so it must be dropped so that the model doesn't overfit"
   ]
  },
  {
   "cell_type": "markdown",
   "metadata": {},
   "source": [
    "**According to Auth**"
   ]
  },
  {
   "cell_type": "code",
   "execution_count": 29,
   "metadata": {
    "execution": {
     "iopub.execute_input": "2021-03-07T02:56:44.275306Z",
     "iopub.status.busy": "2021-03-07T02:56:44.275306Z",
     "iopub.status.idle": "2021-03-07T02:57:08.037455Z",
     "shell.execute_reply": "2021-03-07T02:57:08.037455Z",
     "shell.execute_reply.started": "2021-03-07T02:56:44.275306Z"
    },
    "scrolled": true
   },
   "outputs": [
    {
     "data": {
      "image/png": "[encoded data removed]",
      "text/plain": [
       "<Figure size 432x288 with 2 Axes>"
      ]
     },
     "metadata": {},
     "output_type": "display_data"
    }
   ],
   "source": [
    "df = page_pivot.select('userId','Churn') \n",
    "df = df.join(auth_pivot, on = ['userId'], how = 'left')\n",
    "histogram(df)"
   ]
  },
  {
   "cell_type": "markdown",
   "metadata": {},
   "source": [
    "**According to Method**"
   ]
  },
  {
   "cell_type": "code",
   "execution_count": 30,
   "metadata": {
    "execution": {
     "iopub.execute_input": "2021-03-07T02:57:08.039449Z",
     "iopub.status.busy": "2021-03-07T02:57:08.039449Z",
     "iopub.status.idle": "2021-03-07T02:57:32.057777Z",
     "shell.execute_reply": "2021-03-07T02:57:32.056828Z",
     "shell.execute_reply.started": "2021-03-07T02:57:08.039449Z"
    },
    "scrolled": true
   },
   "outputs": [
    {
     "data": {
      "image/png": "[encoded data removed]",
      "text/plain": [
       "<Figure size 432x288 with 2 Axes>"
      ]
     },
     "metadata": {},
     "output_type": "display_data"
    },
    {
     "data": {
      "image/png": "[encoded data removed]",
      "text/plain": [
       "<Figure size 432x288 with 2 Axes>"
      ]
     },
     "metadata": {},
     "output_type": "display_data"
    }
   ],
   "source": [
    "df = page_pivot.select('userId','Churn') \n",
    "df = df.join(method_pivot, on = ['userId'], how = 'left')\n",
    "histogram(df)"
   ]
  },
  {
   "cell_type": "markdown",
   "metadata": {},
   "source": [
    "**According to Status**"
   ]
  },
  {
   "cell_type": "code",
   "execution_count": 31,
   "metadata": {
    "execution": {
     "iopub.execute_input": "2021-03-07T02:57:32.057777Z",
     "iopub.status.busy": "2021-03-07T02:57:32.057777Z",
     "iopub.status.idle": "2021-03-07T02:57:56.622937Z",
     "shell.execute_reply": "2021-03-07T02:57:56.621940Z",
     "shell.execute_reply.started": "2021-03-07T02:57:32.057777Z"
    },
    "scrolled": true
   },
   "outputs": [
    {
     "data": {
      "image/png": "[encoded data removed]",
      "text/plain": [
       "<Figure size 432x288 with 2 Axes>"
      ]
     },
     "metadata": {},
     "output_type": "display_data"
    },
    {
     "data": {
      "image/png": "[encoded data removed]",
      "text/plain": [
       "<Figure size 432x288 with 2 Axes>"
      ]
     },
     "metadata": {},
     "output_type": "display_data"
    },
    {
     "data": {
      "image/png": "[encoded data removed]",
      "text/plain": [
       "<Figure size 432x288 with 2 Axes>"
      ]
     },
     "metadata": {},
     "output_type": "display_data"
    }
   ],
   "source": [
    "df = page_pivot.select('userId','Churn') \n",
    "df = df.join(status_pivot, on = ['userId'], how = 'left')\n",
    "histogram(df)"
   ]
  },
  {
   "cell_type": "markdown",
   "metadata": {},
   "source": [
    "**Count Variables Conclusion**"
   ]
  },
  {
   "cell_type": "markdown",
   "metadata": {},
   "source": [
    "From the plots wee see that the biggest differences between the users who Churned and those who didn't are the `counts`, but all plots seem to have a *decreasing exponential distribution*"
   ]
  },
  {
   "cell_type": "markdown",
   "metadata": {},
   "source": [
    "## Explore Binary Features\n",
    "In this case, only **Gender** will be analyzed."
   ]
  },
  {
   "cell_type": "code",
   "execution_count": 32,
   "metadata": {
    "execution": {
     "iopub.execute_input": "2021-03-07T02:57:56.624931Z",
     "iopub.status.busy": "2021-03-07T02:57:56.624931Z",
     "iopub.status.idle": "2021-03-07T02:58:23.187437Z",
     "shell.execute_reply": "2021-03-07T02:58:23.186440Z",
     "shell.execute_reply.started": "2021-03-07T02:57:56.624931Z"
    }
   },
   "outputs": [
    {
     "data": {
      "text/plain": [
       "<AxesSubplot:xlabel='Gender', ylabel='User Count'>"
      ]
     },
     "execution_count": 32,
     "metadata": {},
     "output_type": "execute_result"
    },
    {
     "data": {
      "image/png": "[encoded data removed]",
      "text/plain": [
       "<Figure size 432x288 with 1 Axes>"
      ]
     },
     "metadata": {},
     "output_type": "display_data"
    }
   ],
   "source": [
    "gend = sparkify.select('userId', 'Gender')\\\n",
    "                 .dropDuplicates()\n",
    "\n",
    "df = page_pivot.select('userId','Churn')\n",
    "df = df.join(gend, on = ['userId'], how = 'left')\n",
    "\n",
    "df = df.groupBy('Gender','Churn').count()\n",
    "df = df.withColumnRenamed('count', 'User Count').toPandas()\n",
    "\n",
    "sns.barplot(x = 'Gender', y = 'User Count', hue = 'Churn', data = df)"
   ]
  },
  {
   "cell_type": "markdown",
   "metadata": {},
   "source": [
    "Now, if you remember from the `value_counts` analysis:"
   ]
  },
  {
   "cell_type": "code",
   "execution_count": 33,
   "metadata": {
    "execution": {
     "iopub.execute_input": "2021-03-07T02:58:23.188434Z",
     "iopub.status.busy": "2021-03-07T02:58:23.188434Z",
     "iopub.status.idle": "2021-03-07T02:58:24.923728Z",
     "shell.execute_reply": "2021-03-07T02:58:24.921734Z",
     "shell.execute_reply.started": "2021-03-07T02:58:23.188434Z"
    }
   },
   "outputs": [
    {
     "name": "stdout",
     "output_type": "stream",
     "text": [
      "+------+------+\n",
      "|gender| count|\n",
      "+------+------+\n",
      "|     F|154578|\n",
      "|     M|123576|\n",
      "+------+------+\n",
      "\n"
     ]
    }
   ],
   "source": [
    "gender.show()"
   ]
  },
  {
   "cell_type": "markdown",
   "metadata": {},
   "source": [
    "There are fewer women using **sparkify**, but they use the app way more often and are less likely to `Churn` compared to men."
   ]
  },
  {
   "cell_type": "markdown",
   "metadata": {},
   "source": [
    "## Explore Time Features"
   ]
  },
  {
   "cell_type": "markdown",
   "metadata": {},
   "source": [
    "Now we're going to evaluate the age and the time between sessions for each `userId`.\n",
    "\n",
    "To do that, we need to use a `Window`"
   ]
  },
  {
   "cell_type": "code",
   "execution_count": 34,
   "metadata": {
    "execution": {
     "iopub.execute_input": "2021-03-07T02:58:24.926723Z",
     "iopub.status.busy": "2021-03-07T02:58:24.926723Z",
     "iopub.status.idle": "2021-03-07T02:58:24.970123Z",
     "shell.execute_reply": "2021-03-07T02:58:24.969124Z",
     "shell.execute_reply.started": "2021-03-07T02:58:24.926723Z"
    }
   },
   "outputs": [],
   "source": [
    "window = Window.partitionBy('userId').orderBy('ts')"
   ]
  },
  {
   "cell_type": "code",
   "execution_count": 35,
   "metadata": {
    "execution": {
     "iopub.execute_input": "2021-03-07T02:58:24.973115Z",
     "iopub.status.busy": "2021-03-07T02:58:24.973115Z",
     "iopub.status.idle": "2021-03-07T02:58:25.159616Z",
     "shell.execute_reply": "2021-03-07T02:58:25.158617Z",
     "shell.execute_reply.started": "2021-03-07T02:58:24.973115Z"
    }
   },
   "outputs": [],
   "source": [
    "tbs = sparkify.withColumn('previous_session', F.lag('ts',1).over(window))\\\n",
    "              .withColumn('tbs', F.col('ts').cast(LongType()) - F.col('previous_session').cast(LongType()))\\\n",
    "              .fillna(0, subset = ['tbs'])\\\n",
    "              .groupBy('userId').agg(F.max('tbs'), F.avg('tbs'))"
   ]
  },
  {
   "cell_type": "markdown",
   "metadata": {},
   "source": [
    "Now joining with the `page_pivot` to get information about `Churn`"
   ]
  },
  {
   "cell_type": "code",
   "execution_count": 36,
   "metadata": {
    "execution": {
     "iopub.execute_input": "2021-03-07T02:58:25.163603Z",
     "iopub.status.busy": "2021-03-07T02:58:25.162605Z",
     "iopub.status.idle": "2021-03-07T02:58:25.238403Z",
     "shell.execute_reply": "2021-03-07T02:58:25.237405Z",
     "shell.execute_reply.started": "2021-03-07T02:58:25.162605Z"
    }
   },
   "outputs": [],
   "source": [
    "df = page_pivot.select('userId','Churn')\n",
    "df = df.join(tbs, on = ['userId'], how = 'left')"
   ]
  },
  {
   "cell_type": "markdown",
   "metadata": {},
   "source": [
    "And next, plotting"
   ]
  },
  {
   "cell_type": "code",
   "execution_count": 37,
   "metadata": {
    "execution": {
     "iopub.execute_input": "2021-03-07T02:58:25.241395Z",
     "iopub.status.busy": "2021-03-07T02:58:25.241395Z",
     "iopub.status.idle": "2021-03-07T02:58:47.245230Z",
     "shell.execute_reply": "2021-03-07T02:58:47.244236Z",
     "shell.execute_reply.started": "2021-03-07T02:58:25.241395Z"
    }
   },
   "outputs": [
    {
     "data": {
      "image/png": "[encoded data removed]",
      "text/plain": [
       "<Figure size 432x288 with 2 Axes>"
      ]
     },
     "metadata": {},
     "output_type": "display_data"
    },
    {
     "data": {
      "image/png": "[encoded data removed]",
      "text/plain": [
       "<Figure size 432x288 with 2 Axes>"
      ]
     },
     "metadata": {},
     "output_type": "display_data"
    }
   ],
   "source": [
    "histogram(df)"
   ]
  },
  {
   "cell_type": "markdown",
   "metadata": {},
   "source": [
    "We can see that the `max time between sessions` and the `average time between sessions distributions` are different for users who `Churned` and those who didn't.\n",
    "\n",
    "Thus, time features can make the model more powerful and are going to be included in the Pipeline"
   ]
  },
  {
   "cell_type": "markdown",
   "metadata": {},
   "source": [
    "# Feature Engineering\n",
    "\n",
    "In here I am going to build the entire ETL Pipeline. \n",
    "\n",
    "To do that, I will define multipe transformations:\n",
    "\n",
    "1. **DropNullId**: Responsible for dropping the null Ids\n",
    "2. **GenderEncoder**: Responsible for encoding Females as 1 and Males as 0\n",
    "3. **TimeFeaturesTransform**: Responsible for cleaning the Time Features\n",
    "4. **PivotTransform**: Responsible for building the EDA's pivot tables\n",
    "5. **GroupByTransform**: Responsible for building the EDA's groupby tables\n",
    "6. **JoinTransform**: Responsible for joining all the transformations together"
   ]
  },
  {
   "cell_type": "code",
   "execution_count": 38,
   "metadata": {
    "execution": {
     "iopub.execute_input": "2021-03-07T02:58:47.248222Z",
     "iopub.status.busy": "2021-03-07T02:58:47.247228Z",
     "iopub.status.idle": "2021-03-07T02:58:47.499641Z",
     "shell.execute_reply": "2021-03-07T02:58:47.497651Z",
     "shell.execute_reply.started": "2021-03-07T02:58:47.248222Z"
    }
   },
   "outputs": [],
   "source": [
    "class DropNullId(Transformer):\n",
    "    \n",
    "    def _transform(self, dataset):\n",
    "        return dataset.where(\"userId != ''\")\n",
    "\n",
    "class GenderEncoder(Transformer):\n",
    "    \n",
    "    def _transform(self, dataset):\n",
    "        \n",
    "        encode = F.udf(lambda x: 1 if x == 'F' else 0, IntegerType())\n",
    "        \n",
    "        return dataset.withColumn('gender', encode('gender'))\n",
    "    \n",
    "class TimeFeaturesTransform(Transformer):\n",
    "    \n",
    "    def _transform(self, dataset):\n",
    "        #Date Format\n",
    "        fmt = 'yyyy-MM-dd HH:mm:ss'\n",
    "\n",
    "        #Convert from miliseconds to seconds\n",
    "        ts_converter = F.udf(lambda x: x/1000, FloatType())\n",
    "\n",
    "        #Do the conversion\n",
    "        dataset = dataset.withColumn('ts', ts_converter('ts'))\\\n",
    "                         .withColumn('ts', F.from_unixtime('ts', format = fmt))\\\n",
    "                         .withColumn('ts', F.to_timestamp('ts'))\\\n",
    "                         .withColumn('registration', ts_converter('registration'))\\\n",
    "                         .withColumn('registration', F.from_unixtime('registration', format = fmt))\\\n",
    "                         .withColumn('registration', F.to_timestamp('registration'))\n",
    "        \n",
    "        #Time Between Sessions\n",
    "        window = Window.partitionBy('userId').orderBy('ts')\n",
    "        \n",
    "        dataset = dataset.withColumn('previous_session', F.lag('ts',1).over(window))\\\n",
    "                         .withColumn('tbs', F.col('ts').cast(LongType()) - F.col('previous_session').cast(LongType()))\\\n",
    "                         .fillna(0, subset = ['tbs'])\n",
    "        \n",
    "        return dataset\n",
    "    \n",
    "class PivotTransform(Transformer, DefaultParamsReadable, DefaultParamsWritable):\n",
    "    \n",
    "    #Credits to:\n",
    "    #https://stackoverflow.com/questions/32331848/create-a-custom-transformer-in-pyspark-ml\n",
    "    \n",
    "    drop_columns = Param(Params._dummy(), \"drop_columns\", \"columns to drop after pivot\",\n",
    "                          typeConverter=TypeConverters.toListString)\n",
    "    \n",
    "    pivot_col = Param(Params._dummy(), \"pivot_col\", \"Column to pivot\",\n",
    "                     typeConverter=TypeConverters.toString)\n",
    "    \n",
    "    @keyword_only\n",
    "    def __init__(self, pivot_col, drop_columns = None):\n",
    "        \n",
    "        super(PivotTransform, self).__init__()\n",
    "        \n",
    "        #Pivot Column Parameter\n",
    "        self.pivot_col = Param(self, \"pivot_col\", \"Column to pivot\")\n",
    "        \n",
    "        #Drop Columns Parameter\n",
    "        self.drop_columns = Param(self, \"drop_columns\", \"columns to drop after pivot\")\n",
    "        self._setDefault(drop_columns=[])\n",
    "        \n",
    "        #Set Parameters\n",
    "        kwargs = self._input_kwargs\n",
    "        self.setParams(**kwargs)\n",
    "\n",
    "    @keyword_only\n",
    "    def setParams(self, pivot_col, drop_columns = None):\n",
    "        \n",
    "        kwargs = self._input_kwargs\n",
    "        return self._set(**kwargs)\n",
    "    \n",
    "    #Drop Column Methods\n",
    "    def setDropColumns(self, value):\n",
    "        return self._set(drop_columns=value)\n",
    "\n",
    "    def getDropColumns(self):\n",
    "        return self.getOrDefault(self.drop_columns)\n",
    "    \n",
    "    #Pivot Methods\n",
    "    def setPivotColumn(self, value):\n",
    "        return self._set(pivot_col=value)\n",
    "\n",
    "    def getPivotColumn(self):\n",
    "        return self.getOrDefault(self.pivot_col)\n",
    "    \n",
    "    def _transform(self, dataset):\n",
    "        \n",
    "        pivot_col = self.getPivotColumn()\n",
    "        drop_columns = self.getDropColumns()\n",
    "        \n",
    "        #GroupBy Pivot Column\n",
    "        group = dataset.select('userId',pivot_col).groupby('userId')\n",
    "\n",
    "        #Make Pivot Table and Aggregate it with 'agg_func'\n",
    "        pivot = group.pivot(pivot_col).agg({pivot_col:'count'})\n",
    "\n",
    "        #Fill null values with zero\n",
    "        pivot = pivot.fillna(0)\n",
    "        \n",
    "        #Drop Columns From Pivot\n",
    "        pivot = pivot.drop(*drop_columns)\n",
    "        \n",
    "        #Convert userId to int\n",
    "        pivot = pivot.withColumn('userId', F.col('userId').cast(IntegerType()))\n",
    "        \n",
    "        return pivot\n",
    "\n",
    "class GroupByTransform(Transformer, DefaultParamsReadable, DefaultParamsWritable):\n",
    "    \n",
    "    #Credits to:\n",
    "    #https://stackoverflow.com/questions/32331848/create-a-custom-transformer-in-pyspark-ml\n",
    "    \n",
    "    agg_funcs = Param(Params._dummy(), \"agg_funcs\", \"Functions resposible for the aggregations\",\n",
    "                     typeConverter=TypeConverters.toList)\n",
    "    \n",
    "    @keyword_only\n",
    "    def __init__(self, agg_funcs):\n",
    "        \n",
    "        super(GroupByTransform, self).__init__()\n",
    "        \n",
    "        #Pivot Column Parameter\n",
    "        self.agg_funcs = Param(self, \"agg_funcs\", \"Functions resposible for the aggregations\")\n",
    "        \n",
    "        #Set Parameters\n",
    "        kwargs = self._input_kwargs\n",
    "        self.setParams(**kwargs)\n",
    "\n",
    "    @keyword_only\n",
    "    def setParams(self, agg_funcs):\n",
    "        \n",
    "        kwargs = self._input_kwargs\n",
    "        return self._set(**kwargs)\n",
    "    \n",
    "    #Agg Funcs Methods\n",
    "    def setAggFuncs(self, value):\n",
    "        return self._set(agg_funcs=value)\n",
    "\n",
    "    def getAggFuncs(self):\n",
    "        return self.getOrDefault(self.agg_funcs)\n",
    "    \n",
    "    def _transform(self, dataset):\n",
    "        \n",
    "        agg_funcs = self.getAggFuncs()\n",
    "        \n",
    "        #GroupBy Pivot Column\n",
    "        group = dataset.groupby('userId').agg(*agg_funcs)\n",
    "        \n",
    "        return group\n",
    "    \n",
    "class JoinTransformers(Transformer,DefaultParamsReadable, DefaultParamsWritable):\n",
    "        \n",
    "    #Credits to:\n",
    "    #https://stackoverflow.com/questions/32331848/create-a-custom-transformer-in-pyspark-ml\n",
    "    \n",
    "    transformations = Param(Params._dummy(), \"transformations\", \"List of Transformations\",\n",
    "                          typeConverter=TypeConverters.toList)\n",
    "    \n",
    "    @keyword_only\n",
    "    def __init__(self, transformations = None):\n",
    "        \n",
    "        super(JoinTransformers, self).__init__()\n",
    "        \n",
    "        #Transformations\n",
    "        self.transformations = Param(self, \"transformations\", \"List of Transformations\")\n",
    "        self._setDefault(transformations=[])\n",
    "        \n",
    "        #Set Parameters\n",
    "        kwargs = self._input_kwargs\n",
    "        self.setParams(**kwargs)\n",
    "\n",
    "    @keyword_only\n",
    "    def setParams(self, transformations = None):\n",
    "        \n",
    "        kwargs = self._input_kwargs\n",
    "        return self._set(**kwargs)\n",
    "\n",
    "    def setTransformations(self, value):\n",
    "        return self._set(transformations=value)\n",
    "\n",
    "    def getTransformations(self):\n",
    "        return self.getOrDefault(self.transformations)\n",
    "    \n",
    "    def _transform(self, dataset):\n",
    "        \n",
    "        transformations = self.getTransformations()\n",
    "        \n",
    "        Transformed = []\n",
    "        for trans in transformations:\n",
    "            Transformed.append(trans.transform(dataset))\n",
    "        \n",
    "        base = Transformed[0]\n",
    "        for trans in Transformed[1:]:\n",
    "            base = base.join(trans, on = ['userId'], how = 'left')\n",
    "        \n",
    "        return base"
   ]
  },
  {
   "cell_type": "code",
   "execution_count": 39,
   "metadata": {
    "execution": {
     "iopub.execute_input": "2021-03-07T02:58:47.502632Z",
     "iopub.status.busy": "2021-03-07T02:58:47.502632Z",
     "iopub.status.idle": "2021-03-07T02:58:48.847041Z",
     "shell.execute_reply": "2021-03-07T02:58:48.846581Z",
     "shell.execute_reply.started": "2021-03-07T02:58:47.502632Z"
    }
   },
   "outputs": [],
   "source": [
    "#Reading Data\n",
    "sparkify = spark.read.json('mini_sparkify_event_data.json')"
   ]
  },
  {
   "cell_type": "code",
   "execution_count": 40,
   "metadata": {
    "execution": {
     "iopub.execute_input": "2021-03-07T02:58:48.848053Z",
     "iopub.status.busy": "2021-03-07T02:58:48.848053Z",
     "iopub.status.idle": "2021-03-07T02:58:59.241377Z",
     "shell.execute_reply": "2021-03-07T02:58:59.240380Z",
     "shell.execute_reply.started": "2021-03-07T02:58:48.848053Z"
    }
   },
   "outputs": [],
   "source": [
    "#Basic Processing\n",
    "drop_null_id = DropNullId()\n",
    "time_features = TimeFeaturesTransform()\n",
    "encode_gender = GenderEncoder()\n",
    "\n",
    "#Pivots\n",
    "page_pivot = PivotTransform(pivot_col='page', drop_columns=['Cancel'])\n",
    "auth_pivot = PivotTransform(pivot_col='auth', drop_columns=['Cancelled'])\n",
    "status_pivot = PivotTransform(pivot_col='status')\n",
    "method_pivot = PivotTransform(pivot_col='method')\n",
    "\n",
    "#GroupBys\n",
    "tbs_groupby = GroupByTransform(agg_funcs=[F.max('tbs'), F.avg('tbs')])\n",
    "gender_groupby = GroupByTransform(agg_funcs=[F.max('gender')])\n",
    "\n",
    "#Join Transformations\n",
    "transfs = JoinTransformers(transformations=[page_pivot, auth_pivot, status_pivot,\n",
    "                                            method_pivot, tbs_groupby, gender_groupby])\n",
    "\n",
    "#ETL Pipeline\n",
    "stages = [drop_null_id, time_features, encode_gender, transfs]\n",
    "ETLpipe = Pipeline(stages=stages)\n",
    "\n",
    "#Transform Data\n",
    "model = ETLpipe.fit(sparkify)\n",
    "sparkify = model.transform(sparkify)\n",
    "sparkify = sparkify.withColumnRenamed('Cancellation Confirmation', 'label')"
   ]
  },
  {
   "cell_type": "markdown",
   "metadata": {},
   "source": [
    "# Modeling\n",
    "Split the full dataset into train, test, and validation sets. Test out several of the machine learning methods you learned. Evaluate the accuracy of the various models, tuning parameters as necessary. Determine your winning model based on test accuracy and report results on the validation set. Since the churned users are a fairly small subset, I suggest using F1 score as the metric to optimize."
   ]
  },
  {
   "cell_type": "markdown",
   "metadata": {},
   "source": [
    "## TrainTestSplit"
   ]
  },
  {
   "cell_type": "code",
   "execution_count": 41,
   "metadata": {
    "execution": {
     "iopub.execute_input": "2021-03-07T02:58:59.242374Z",
     "iopub.status.busy": "2021-03-07T02:58:59.242374Z",
     "iopub.status.idle": "2021-03-07T02:58:59.352595Z",
     "shell.execute_reply": "2021-03-07T02:58:59.351597Z",
     "shell.execute_reply.started": "2021-03-07T02:58:59.242374Z"
    }
   },
   "outputs": [],
   "source": [
    "#Since the Data is unbalanced, I am gonna do a Stratified Split\n",
    "#Credits to: https://stackoverflow.com/questions/47637760/stratified-sampling-with-pyspark\n",
    "\n",
    "# split dataframes between 0s and 1s\n",
    "zeros = sparkify.filter('label == 0')\n",
    "ones = sparkify.filter('label == 1')\n",
    "\n",
    "# split datasets into training and testing\n",
    "train0, test0 = zeros.randomSplit([0.8,0.2], seed=2021)\n",
    "train1, test1 = ones.randomSplit([0.8,0.2], seed=2021)\n",
    "\n",
    "# put them back together\n",
    "train = train0.union(train1)\n",
    "test = test0.union(test1)"
   ]
  },
  {
   "cell_type": "markdown",
   "metadata": {},
   "source": [
    "Now verifying if the splits were done correctly"
   ]
  },
  {
   "cell_type": "code",
   "execution_count": 42,
   "metadata": {
    "execution": {
     "iopub.execute_input": "2021-03-07T02:58:59.354590Z",
     "iopub.status.busy": "2021-03-07T02:58:59.353592Z",
     "iopub.status.idle": "2021-03-07T03:00:28.825445Z",
     "shell.execute_reply": "2021-03-07T03:00:28.825445Z",
     "shell.execute_reply.started": "2021-03-07T02:58:59.353592Z"
    }
   },
   "outputs": [
    {
     "name": "stdout",
     "output_type": "stream",
     "text": [
      "+-----+-----+\n",
      "|label|count|\n",
      "+-----+-----+\n",
      "|    0|  146|\n",
      "|    1|   46|\n",
      "+-----+-----+\n",
      "\n"
     ]
    }
   ],
   "source": [
    "train.groupBy('label').count().show()"
   ]
  },
  {
   "cell_type": "code",
   "execution_count": 43,
   "metadata": {
    "execution": {
     "iopub.execute_input": "2021-03-07T03:00:28.827439Z",
     "iopub.status.busy": "2021-03-07T03:00:28.826444Z",
     "iopub.status.idle": "2021-03-07T03:01:58.529669Z",
     "shell.execute_reply": "2021-03-07T03:01:58.529669Z",
     "shell.execute_reply.started": "2021-03-07T03:00:28.827439Z"
    },
    "scrolled": true
   },
   "outputs": [
    {
     "name": "stdout",
     "output_type": "stream",
     "text": [
      "+-----+-----+\n",
      "|label|count|\n",
      "+-----+-----+\n",
      "|    0|   27|\n",
      "|    1|    6|\n",
      "+-----+-----+\n",
      "\n"
     ]
    }
   ],
   "source": [
    "test.groupBy('label').count().show()"
   ]
  },
  {
   "cell_type": "markdown",
   "metadata": {},
   "source": [
    "All good, we can proceed !!"
   ]
  },
  {
   "cell_type": "markdown",
   "metadata": {},
   "source": [
    "## Pipelines\n",
    "Since we have a binary classification problem, I am going to use `LogisticRegression` and `RandomForest`"
   ]
  },
  {
   "cell_type": "code",
   "execution_count": 44,
   "metadata": {
    "execution": {
     "iopub.execute_input": "2021-03-07T03:01:58.531663Z",
     "iopub.status.busy": "2021-03-07T03:01:58.530664Z",
     "iopub.status.idle": "2021-03-07T03:01:58.547622Z",
     "shell.execute_reply": "2021-03-07T03:01:58.545625Z",
     "shell.execute_reply.started": "2021-03-07T03:01:58.530664Z"
    }
   },
   "outputs": [],
   "source": [
    "#InputCols\n",
    "inputCols = ['About', 'Add Friend', 'Add to Playlist', 'Downgrade',\n",
    "             'Error', 'Help', 'Home', 'Logout', 'NextSong','Roll Advert',\n",
    "             'Save Settings','Settings','Submit Downgrade','Submit Upgrade',\n",
    "             'Thumbs Down', 'Thumbs Up', 'Upgrade', 'Logged In', '200',\n",
    "             '307', '404', 'GET', 'PUT', 'max(tbs)', 'avg(tbs)', 'max(gender)']"
   ]
  },
  {
   "cell_type": "code",
   "execution_count": 45,
   "metadata": {
    "execution": {
     "iopub.execute_input": "2021-03-07T03:01:58.549616Z",
     "iopub.status.busy": "2021-03-07T03:01:58.549616Z",
     "iopub.status.idle": "2021-03-07T03:01:58.626410Z",
     "shell.execute_reply": "2021-03-07T03:01:58.625413Z",
     "shell.execute_reply.started": "2021-03-07T03:01:58.549616Z"
    }
   },
   "outputs": [],
   "source": [
    "#Vector Assembler\n",
    "vec = VectorAssembler(inputCols = inputCols, outputCol='features')\n",
    "\n",
    "#Logistic Regression\n",
    "log = LogisticRegression()\n",
    "logGrid = ParamGridBuilder().addGrid(log.regParam, [0.1, 0.01]) \\\n",
    "                            .addGrid(log.fitIntercept, [False, True])\\\n",
    "                            .addGrid(log.elasticNetParam, [0.0, 0.5, 1.0])\\\n",
    "                            .build()\n",
    "log_pipe = Pipeline(stages = [vec, log])\n",
    "\n",
    "#Random Forest\n",
    "randfor = RandomForestClassifier()\n",
    "randGrid = ParamGridBuilder().addGrid(randfor.numTrees, [20, 50, 100]) \\\n",
    "                            .addGrid(randfor.maxDepth, [5, 10, 15])\\\n",
    "                            .build()\n",
    "\n",
    "rand_pipe = Pipeline(stages = [vec, randfor])"
   ]
  },
  {
   "cell_type": "markdown",
   "metadata": {},
   "source": [
    "## LogisticRegression"
   ]
  },
  {
   "cell_type": "code",
   "execution_count": 46,
   "metadata": {
    "execution": {
     "iopub.execute_input": "2021-03-07T03:01:58.628405Z",
     "iopub.status.busy": "2021-03-07T03:01:58.627408Z",
     "iopub.status.idle": "2021-03-07T04:34:44.391073Z",
     "shell.execute_reply": "2021-03-07T04:34:44.390076Z",
     "shell.execute_reply.started": "2021-03-07T03:01:58.628405Z"
    }
   },
   "outputs": [
    {
     "name": "stdout",
     "output_type": "stream",
     "text": [
      "LogisticRegression AUC: 0.91975\n"
     ]
    }
   ],
   "source": [
    "#Fit Best Set of Parameters\n",
    "logtvs = TrainValidationSplit(estimator=log_pipe,\n",
    "                               estimatorParamMaps=logGrid,\n",
    "                               evaluator=BinaryClassificationEvaluator(),\n",
    "                               trainRatio=0.8)\n",
    "\n",
    "log_model = logtvs.fit(train)\n",
    "\n",
    "#Predict Test based on Best Model\n",
    "preds = log_model.transform(test)\n",
    "\n",
    "#Evaluate\n",
    "log_eval = BinaryClassificationEvaluator()\n",
    "log_res = log_eval.evaluate(preds)\n",
    "\n",
    "print(f'LogisticRegression AUC: {log_res:.5f}')"
   ]
  },
  {
   "cell_type": "markdown",
   "metadata": {},
   "source": [
    "## RandomForestClassifier"
   ]
  },
  {
   "cell_type": "code",
   "execution_count": 47,
   "metadata": {
    "execution": {
     "iopub.execute_input": "2021-03-07T04:34:44.392071Z",
     "iopub.status.busy": "2021-03-07T04:34:44.392071Z",
     "iopub.status.idle": "2021-03-07T05:29:48.415377Z",
     "shell.execute_reply": "2021-03-07T05:29:48.414380Z",
     "shell.execute_reply.started": "2021-03-07T04:34:44.392071Z"
    }
   },
   "outputs": [
    {
     "name": "stdout",
     "output_type": "stream",
     "text": [
      "RandomForest AUC: 0.96605\n"
     ]
    }
   ],
   "source": [
    "#Fit Best Set of Parameters\n",
    "randtvs = TrainValidationSplit(estimator=rand_pipe,\n",
    "                               estimatorParamMaps=randGrid,\n",
    "                               evaluator=BinaryClassificationEvaluator(),\n",
    "                               trainRatio=0.8)\n",
    "\n",
    "rand_model = randtvs.fit(train)\n",
    "\n",
    "#Predict Test based on Best Model\n",
    "preds = rand_model.transform(test)\n",
    "\n",
    "#Evaluate\n",
    "rand_eval = BinaryClassificationEvaluator()\n",
    "rand_res = rand_eval.evaluate(preds)\n",
    "\n",
    "print(f'RandomForest AUC: {rand_res:.5f}')"
   ]
  }
 ],
 "metadata": {
  "kernelspec": {
   "display_name": "Python 3",
   "language": "python",
   "name": "python3"
  },
  "language_info": {
   "codemirror_mode": {
    "name": "ipython",
    "version": 3
   },
   "file_extension": ".py",
   "mimetype": "text/x-python",
   "name": "python",
   "nbconvert_exporter": "python",
   "pygments_lexer": "ipython3",
   "version": "3.7.9"
  }
 },
 "nbformat": 4,
 "nbformat_minor": 4
}
